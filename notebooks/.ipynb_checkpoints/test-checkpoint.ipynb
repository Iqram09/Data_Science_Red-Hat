{
 "cells": [
  {
   "cell_type": "code",
   "execution_count": 1,
   "id": "f6956f43-383f-49a8-a6cb-abcb126a614d",
   "metadata": {},
   "outputs": [],
   "source": [
    "def is_balanced(expression):\n",
    "    stack = []\n",
    "    pairs ={ ')':'(','}':'{','>':'<',']':'[' }\n",
    "\n",
    "    for char in expression:\n",
    "        if char in pairs.values():\n",
    "            stack.append(char)\n",
    "        elif char in pairs:\n",
    "            if not stack or stack[-1] != pairs[char]:\n",
    "                return False\n",
    "            stack.pop()\n",
    "    return not stack"
   ]
  },
  {
   "cell_type": "code",
   "execution_count": 2,
   "id": "1e99e0b4-fbd6-4c44-b43a-9d5e99f03f97",
   "metadata": {},
   "outputs": [
    {
     "name": "stdout",
     "output_type": "stream",
     "text": [
      "True\n",
      "True\n",
      "False\n",
      "False\n"
     ]
    }
   ],
   "source": [
    "print(is_balanced(\"[<{[()]}>]\"))     # True\n",
    "print(is_balanced(\"<<[({})]([{<>}])>>\"))     # True\n",
    "print(is_balanced(\"[<({[)}>]]\")) # False\n",
    "print(is_balanced(\"{ ( [ ] ) } )\")) # False"
   ]
  },
  {
   "cell_type": "code",
   "execution_count": null,
   "id": "c267d6cb-f710-4eab-be2a-c355272565ef",
   "metadata": {},
   "outputs": [],
   "source": []
  }
 ],
 "metadata": {
  "kernelspec": {
   "display_name": "Python 3 (ipykernel)",
   "language": "python",
   "name": "python3"
  },
  "language_info": {
   "codemirror_mode": {
    "name": "ipython",
    "version": 3
   },
   "file_extension": ".py",
   "mimetype": "text/x-python",
   "name": "python",
   "nbconvert_exporter": "python",
   "pygments_lexer": "ipython3",
   "version": "3.11.6"
  }
 },
 "nbformat": 4,
 "nbformat_minor": 5
}
